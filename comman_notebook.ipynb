{
 "cells": [
  {
   "cell_type": "code",
   "execution_count": 9,
   "source": [
    "from logic import *\r\n",
    "\r\n",
    "A = Symbol(\"Number Format Exception\")\r\n",
    "B = Symbol(\"Random r = new Random(Double.parseDouble(x))\")\r\n",
    "C = Symbol(\"Divided by zero\")\r\n",
    "D = Symbol(\"double y = a / b;\")\r\n",
    "E = Symbol(\"Segmentation Fault\")\r\n",
    "F = Symbol(\"Low Memory\")\r\n",
    "G = Symbol(\"Object o = new Object()\")"
   ],
   "outputs": [],
   "metadata": {}
  },
  {
   "cell_type": "code",
   "execution_count": 16,
   "source": [
    "knowledge = And(\r\n",
    "    Biconditional(A, B),\r\n",
    "    Biconditional(C, D),\r\n",
    "    Biconditional(Not(B), E),\r\n",
    "    And(F, A),\r\n",
    "    Or(E, G)\r\n",
    ")"
   ],
   "outputs": [],
   "metadata": {}
  },
  {
   "cell_type": "code",
   "execution_count": 11,
   "source": [
    "NumberFormatException = model_check(knowledge, A)\r\n",
    "print(NumberFormatException)"
   ],
   "outputs": [
    {
     "output_type": "stream",
     "name": "stdout",
     "text": [
      "True\n"
     ]
    }
   ],
   "metadata": {}
  },
  {
   "cell_type": "code",
   "execution_count": 6,
   "source": [
    "Dividedbyzero = model_check(knowledge, C)\r\n",
    "print(Dividedbyzero)"
   ],
   "outputs": [
    {
     "output_type": "stream",
     "name": "stdout",
     "text": [
      "False\n"
     ]
    }
   ],
   "metadata": {}
  },
  {
   "cell_type": "code",
   "execution_count": 17,
   "source": [
    "SegmentationFault = model_check(knowledge, E)\r\n",
    "print(SegmentationFault)"
   ],
   "outputs": [
    {
     "output_type": "stream",
     "name": "stdout",
     "text": [
      "False\n"
     ]
    }
   ],
   "metadata": {}
  },
  {
   "cell_type": "code",
   "execution_count": 8,
   "source": [
    "LowMemory = model_check(knowledge, F)\r\n",
    "print(LowMemory)"
   ],
   "outputs": [
    {
     "output_type": "stream",
     "name": "stdout",
     "text": [
      "True\n"
     ]
    }
   ],
   "metadata": {}
  }
 ],
 "metadata": {
  "orig_nbformat": 4,
  "language_info": {
   "name": "python",
   "version": "3.9.6",
   "mimetype": "text/x-python",
   "codemirror_mode": {
    "name": "ipython",
    "version": 3
   },
   "pygments_lexer": "ipython3",
   "nbconvert_exporter": "python",
   "file_extension": ".py"
  },
  "kernelspec": {
   "name": "python3",
   "display_name": "Python 3.9.6 64-bit"
  },
  "interpreter": {
   "hash": "ab6210dbeb28327f654c0c7dc0c16a55a359021cbaee12f9e0b60c2727f0b65d"
  }
 },
 "nbformat": 4,
 "nbformat_minor": 2
}